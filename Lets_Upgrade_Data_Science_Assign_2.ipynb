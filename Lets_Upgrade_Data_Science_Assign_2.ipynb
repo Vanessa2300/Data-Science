{
 "metadata": {
  "language_info": {
   "codemirror_mode": {
    "name": "ipython",
    "version": 3
   },
   "file_extension": ".py",
   "mimetype": "text/x-python",
   "name": "python",
   "nbconvert_exporter": "python",
   "pygments_lexer": "ipython3",
   "version": "3.8.3-final"
  },
  "orig_nbformat": 2,
  "kernelspec": {
   "name": "python3",
   "display_name": "Python 3"
  }
 },
 "nbformat": 4,
 "nbformat_minor": 2,
 "cells": [
  {
   "source": [
    "Questions 1:\n",
    "Create an empty list. Accept 10 numbers from the user and append to it the list if it is an even number.\n"
   ],
   "cell_type": "markdown",
   "metadata": {}
  },
  {
   "cell_type": "code",
   "execution_count": null,
   "metadata": {},
   "outputs": [],
   "source": [
    "numlist=[]\n",
    "for i in range(0,10):\n",
    "    l=int(input())\n",
    "    if l%2==0:\n",
    "     numlist.append(l)\n",
    "print(numlist)\n"
   ]
  },
  {
   "source": [
    "Questions 2:\n",
    "Create a notebook on LIST COMPREHENSION. This exercise is to put you in a Self learning mode\n"
   ],
   "cell_type": "markdown",
   "metadata": {}
  },
  {
   "source": [
    "#LIST COMPREHENSION\n",
    "\n",
    "List Comprehensions provide an elegant way to create new lists. The following is the basic structure of a list comprehension:\n",
    "\n",
    "output_list = [output_exp for var in input_list if (var satisfies this condition)]"
   ],
   "cell_type": "markdown",
   "metadata": {}
  },
  {
   "cell_type": "code",
   "execution_count": null,
   "metadata": {},
   "outputs": [],
   "source": [
    "evens = [i for i in range(1,100) if not i % 2]\n",
    "print(evens)"
   ]
  },
  {
   "cell_type": "code",
   "execution_count": null,
   "metadata": {},
   "outputs": [],
   "source": [
    "odds = [i for i in range(1,100) if i % 2]\n",
    "print(odds)"
   ]
  },
  {
   "source": [
    "Questions 3:\n",
    "You have seen in the videos how powerful dictionary data structure is.\n",
    "In this assignment, given a number n, you have to write a program that generates a dictionary d which\n",
    "contains (i, i*i), where i is from 1 to n (both included).\n",
    "Then you have to just print this dictionary d."
   ],
   "cell_type": "markdown",
   "metadata": {}
  },
  {
   "cell_type": "code",
   "execution_count": null,
   "metadata": {},
   "outputs": [],
   "source": [
    "d={}\n",
    "n=int(input())\n",
    "for i in range(1,n+1):\n",
    "    d[i]=i*i\n",
    "print(d)"
   ]
  },
  {
   "source": [
    "Questions 4:\n",
    "There is a robot which wants to go the charging point to charge itself.\n",
    "The robot moves in a 2-D plane from the original point (0,0). The robot can\n",
    "move toward UP, DOWN, LEFT and RIGHT with given steps.\n",
    "The trace of robot movement is shown as the following:\n",
    "UP 5\n",
    "DOWN 3\n",
    "LEFT 3\n",
    "RIGHT 2\n",
    "Then, the output of the program should be:\n",
    "2\n",
    "The numbers after the direction are steps.\n",
    "Write a program to compute the distance between the current position after\n",
    "a sequence of movement and original point. If the distance is a float, then\n",
    "just print the nearest integer (use round() function for that and then convert\n",
    "it into an integer)."
   ],
   "cell_type": "markdown",
   "metadata": {}
  },
  {
   "cell_type": "code",
   "execution_count": null,
   "metadata": {},
   "outputs": [],
   "source": [
    "import math\n",
    "x, y = 0, 0\n",
    "\n",
    "n= int(input(\"enter number of directions to be give: \"))\n",
    "for i in range(0,n):\n",
    "\n",
    "    move = input(\"Type in UP/DOWN/LEFT/RIGHT #step number: \")\n",
    "\n",
    "    if move == \"\":\n",
    "        break\n",
    "\n",
    "    else:\n",
    "        move = move.split(\" \") # to separate the direction and number\n",
    "\n",
    "        if move[0] == \"UP\" or move[0]==\"up\":\n",
    "            y = y + int(move[1])\n",
    "        elif move[0] == \"DOWN\" or move[0]==\"down\":\n",
    "            y = y - int(move[1])\n",
    "        elif move[0] == \"LEFT\" or move[0]==\"left\":\n",
    "            x = x - int(move[1])\n",
    "        elif move[0] == \"RIGHT\" or move[0]==\"right\":\n",
    "            x = x + int(move[1])\n",
    "\n",
    "c = math.sqrt(x**2 + y**2) \n",
    "    # the above formula is based on pythagoras theorem\n",
    "print(\"Distance:\", round(c))"
   ]
  }
 ]
}