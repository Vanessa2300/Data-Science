{
 "cells": [
  {
   "cell_type": "code",
   "execution_count": null,
   "metadata": {},
   "outputs": [],
   "source": [
    "import numpy as np\n"
   ]
  },
  {
   "cell_type": "code",
   "execution_count": null,
   "metadata": {},
   "outputs": [],
   "source": [
    "print(np.__version__)"
   ]
  },
  {
   "cell_type": "markdown",
   "metadata": {},
   "source": [
    "# Questions 1:\n",
    "Create a numpy array starting from 2 till 50 with a stepsize of 3."
   ]
  },
  {
   "cell_type": "code",
   "execution_count": null,
   "metadata": {},
   "outputs": [],
   "source": [
    "arr=np.arange(2,50,3)\n",
    "print(arr)"
   ]
  },
  {
   "cell_type": "markdown",
   "metadata": {},
   "source": [
    "# Questions 2:\n",
    "Accept two lists of 5 elements each from the user.\n",
    "Convert them to numpy arrays. Concatenate these arrays and print it. Also sort these arrays and print it."
   ]
  },
  {
   "cell_type": "code",
   "execution_count": null,
   "metadata": {},
   "outputs": [],
   "source": [
    "l1=[]\n",
    "for i in range(0,5):\n",
    "    num=int(input(\"Enter num \"+str(i+1) + \" for list 1:\"))\n",
    "    l1.append(num)\n",
    "l2=[]\n",
    "for i in range(0,5):\n",
    "    num=int(input(\"Enter num \"+str(i+1) + \" for list 2:\"))\n",
    "    l2.append(num)\n",
    "print(l1)\n",
    "print(l2)\n",
    "\n",
    "arr1=np.array(l1)\n",
    "arr2=np.array(l2)\n",
    "arr3=np.concatenate((arr1,arr2))\n",
    "print(arr1)\n",
    "print(arr2)\n",
    "print(arr3)\n",
    "print(\"Sorted Array: \")\n",
    "sarr=np.sort(arr3)\n",
    "print(sarr)"
   ]
  },
  {
   "cell_type": "markdown",
   "metadata": {},
   "source": [
    "# Questions 3:\n",
    "Write a code snippet to find the dimensions of a ndarray and its size."
   ]
  },
  {
   "cell_type": "code",
   "execution_count": null,
   "metadata": {},
   "outputs": [],
   "source": [
    "narr = np.array( [[ 1, 2, 3], \n",
    "                  [ 4, 2, 5],\n",
    "                  [7, 8, 9]] )\n",
    " \n",
    "# Printing array dimensions \n",
    "print(\"No. of dimensions: \", narr.ndim)\n",
    "\n",
    "# Printing size (total number of elements) of array\n",
    "print(\"Size of array: \", narr.size) "
   ]
  },
  {
   "cell_type": "markdown",
   "metadata": {},
   "source": [
    "# Questions 4:\n",
    "How to convert a 1D array into a 2D array? Demonstrate with the help of a code snippet\n",
    "Hint: np.newaxis, np.expand_dims"
   ]
  },
  {
   "cell_type": "code",
   "execution_count": null,
   "metadata": {},
   "outputs": [],
   "source": [
    "a = np.array([1, 2, 3, 4, 5, 6, 7, 8, 9, 10])\n",
    "print(a)\n",
    "a[ np.newaxis,:].shape\n",
    "print(a[:, np.newaxis])\n"
   ]
  },
  {
   "cell_type": "markdown",
   "metadata": {},
   "source": [
    "# Questions 5:\n",
    "Consider two square numpy arrays. Stack them vertically and horizontally.\n",
    "Hint: Use vstack(), hstack()"
   ]
  },
  {
   "cell_type": "code",
   "execution_count": null,
   "metadata": {},
   "outputs": [],
   "source": [
    "a1=np.arange(1,10).reshape(3,3)\n",
    "a2=np.arange(10,19).reshape(3,3)\n",
    "np.vstack((a1,a2))"
   ]
  },
  {
   "cell_type": "code",
   "execution_count": null,
   "metadata": {},
   "outputs": [],
   "source": [
    "a1=np.arange(1,10).reshape(3,3)\n",
    "a2=np.arange(10,19).reshape(3,3)\n",
    "np.hstack((a1,a2))"
   ]
  },
  {
   "cell_type": "markdown",
   "metadata": {},
   "source": [
    "# Questions 6:\n",
    "How to get unique items and counts of unique items?"
   ]
  },
  {
   "cell_type": "code",
   "execution_count": null,
   "metadata": {},
   "outputs": [],
   "source": [
    "narr=np.array([1, 10, 3, 5, 3, 3, 4, 6, 6, 7, 5, 10, 1, 5])\n",
    "#np.unique(narr)\n",
    "unique, frequency = np.unique(narr, \n",
    "                              return_counts = True)  \n",
    "count = np.asarray((unique, frequency ))\n",
    "print(\"Value and Frequency\\n\", \n",
    "     count)\n"
   ]
  }
 ],
 "metadata": {
  "kernelspec": {
   "display_name": "Python 3",
   "language": "python",
   "name": "python3"
  },
  "language_info": {
   "codemirror_mode": {
    "name": "ipython",
    "version": 3
   },
   "file_extension": ".py",
   "mimetype": "text/x-python",
   "name": "python",
   "nbconvert_exporter": "python",
   "pygments_lexer": "ipython3",
   "version": "3.8.3"
  }
 },
 "nbformat": 4,
 "nbformat_minor": 4
}
