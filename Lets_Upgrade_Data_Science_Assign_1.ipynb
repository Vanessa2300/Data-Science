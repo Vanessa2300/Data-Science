{
  "nbformat": 4,
  "nbformat_minor": 0,
  "metadata": {
    "colab": {
      "name": "Lets Upgrade Data Science Assign 1.ipynb",
      "provenance": [],
      "collapsed_sections": []
    },
    "kernelspec": {
      "name": "python3",
      "display_name": "Python 3"
    }
  },
  "cells": [
    {
      "cell_type": "markdown",
      "metadata": {
        "id": "Pb-ISvBDxMMe"
      },
      "source": [
        "Questions 1:\n",
        "Given the following jumbled word, OBANWRI guess the correct English word.\n",
        "A. RANIBOW\n",
        "B. RAINBOW\n",
        "C. BOWRANI\n",
        "D. ROBWANI"
      ]
    },
    {
      "cell_type": "code",
      "metadata": {
        "id": "ICuWKpQQwTl5"
      },
      "source": [
        "#RAINBOW"
      ],
      "execution_count": 1,
      "outputs": []
    },
    {
      "cell_type": "markdown",
      "metadata": {
        "id": "IHxpgkKgxkLc"
      },
      "source": [
        "Questions 2:\n",
        "Write a program which prints “LETS UPGRADE”. (Please note that you have to\n",
        "print in ALL CAPS as given)"
      ]
    },
    {
      "cell_type": "code",
      "metadata": {
        "id": "Ob16W3P2xiP0"
      },
      "source": [
        "print(\"LETS UPGRADE\")"
      ],
      "execution_count": null,
      "outputs": []
    },
    {
      "cell_type": "markdown",
      "metadata": {
        "id": "DHcJMSwF2oEV"
      },
      "source": [
        "Questions 3:\n",
        "Write a program that takes cost price and selling price as input and displays whether the transaction is a\n",
        "Profit or a Loss or Neither."
      ]
    },
    {
      "cell_type": "code",
      "metadata": {
        "id": "fSkj6ipnxfOl"
      },
      "source": [
        "cp=int (input())\n",
        "sp=int (input())\n",
        "if sp>cp:\n",
        "  print(\"Profit\")\n",
        "elif cp>sp:\n",
        "  print(\"Loss\")\n",
        "else:\n",
        "  print(\"Neither\")"
      ],
      "execution_count": null,
      "outputs": []
    },
    {
      "cell_type": "markdown",
      "metadata": {
        "id": "ofRvbvKb3_HH"
      },
      "source": [
        "Questions 4:\n",
        "Write a program that takes an amount in Euros as input. You need to find its equivalent in\n",
        "Rupees and display it. Assume 1 Euro equals Rs. 80."
      ]
    },
    {
      "cell_type": "code",
      "metadata": {
        "id": "A9sg5w-n3Tvh",
        "outputId": "8bbb5ecb-78dc-4cef-bb6c-87619afdf03c",
        "colab": {
          "base_uri": "https://localhost:8080/"
        }
      },
      "source": [
        "euro= int (input())\n",
        "rs= euro*80\n",
        "print(rs)"
      ],
      "execution_count": 12,
      "outputs": [
        {
          "output_type": "stream",
          "text": [
            "95\n",
            "7600\n"
          ],
          "name": "stdout"
        }
      ]
    },
    {
      "cell_type": "code",
      "metadata": {
        "id": "En6gSZdW4Vs8"
      },
      "source": [
        ""
      ],
      "execution_count": null,
      "outputs": []
    }
  ]
}